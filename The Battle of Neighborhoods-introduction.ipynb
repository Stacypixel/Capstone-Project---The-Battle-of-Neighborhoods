{
 "cells": [
  {
   "cell_type": "markdown",
   "metadata": {},
   "source": [
    "# Battle of the Neighborhoods"
   ]
  },
  {
   "cell_type": "markdown",
   "metadata": {},
   "source": [
    "## *Potential location for new sushi restaurant in Toronto*"
   ]
  },
  {
   "cell_type": "markdown",
   "metadata": {},
   "source": [
    "#### by Ran Shi"
   ]
  },
  {
   "cell_type": "markdown",
   "metadata": {},
   "source": [
    "---------"
   ]
  },
  {
   "cell_type": "markdown",
   "metadata": {},
   "source": [
    "#### *This project is aimed to untilize the concepts and tools teached by IBM Data Science Professional Course to explore the problem in business. \n",
    "\n",
    "\n",
    "\n",
    "## 1. Introduction\n",
    "\n",
    "### As an international city, Toronto is greatly populated and open-minded. And Japanese food is one of the most well-known meal catergories all over the world. Sushi is a traditional Japanese dish and always be treated as high-level cusine, which stands for being healthy, aesthetical and cultural, becoming increasly popular. Sushi restaurant could be a business with large profitable potential. However, runing a restaurant depending on a lot of conditions and location is one of the keys for its success. \n",
    "\n",
    "### The object of this project is to use Foursquare location data, geting venues distribution information. We aim to figure out the most ideal location for starting a sushi-restaurant business in Toronto, providing investors some useful suggestions. "
   ]
  },
  {
   "cell_type": "code",
   "execution_count": null,
   "metadata": {},
   "outputs": [],
   "source": []
  }
 ],
 "metadata": {
  "kernelspec": {
   "display_name": "Python 3",
   "language": "python",
   "name": "python3"
  },
  "language_info": {
   "codemirror_mode": {
    "name": "ipython",
    "version": 3
   },
   "file_extension": ".py",
   "mimetype": "text/x-python",
   "name": "python",
   "nbconvert_exporter": "python",
   "pygments_lexer": "ipython3",
   "version": "3.7.4"
  }
 },
 "nbformat": 4,
 "nbformat_minor": 2
}
