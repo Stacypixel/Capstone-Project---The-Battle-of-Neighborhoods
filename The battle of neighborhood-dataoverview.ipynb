{
 "cells": [
  {
   "cell_type": "markdown",
   "metadata": {},
   "source": [
    "# Battle of the Neighborhoods"
   ]
  },
  {
   "cell_type": "markdown",
   "metadata": {},
   "source": [
    "## *Potential location for new sushi restaurant in Toronto*"
   ]
  },
  {
   "cell_type": "markdown",
   "metadata": {},
   "source": [
    "---------"
   ]
  },
  {
   "cell_type": "markdown",
   "metadata": {},
   "source": [
    "## 1. Introduction\n",
    "\n",
    "As an international city, Toronto is greatly populated and open-minded. And Japanese food is one of the most well-known meal catergories all over the world. Sushi is a traditional Japanese dish and always be treated as high-level cusine, which stands for being healthy, aesthetical and cultural, becoming increasly popular. Sushi restaurant could be a business with large profitable potential. However, runing a restaurant depends on a lot of conditions and location is one of the keys for its success. \n",
    "\n",
    "The object of this project is to use Foursquare location data, geting venues distribution information. We aim to figure out the most ideal location for starting a sushi-restaurant business in Toronto, providing investors some useful suggestions. "
   ]
  },
  {
   "cell_type": "markdown",
   "metadata": {},
   "source": [
    "***"
   ]
  },
  {
   "cell_type": "markdown",
   "metadata": {},
   "source": [
    "## 2. Target Audience\n",
    "\n",
    "This project is aimed towards investors or business owners who want to open a new sushi restaurant in Toronto. Our analysis would be a good reference and provide some fundamental information for our target audience."
   ]
  },
  {
   "cell_type": "markdown",
   "metadata": {},
   "source": [
    "---"
   ]
  },
  {
   "cell_type": "markdown",
   "metadata": {},
   "source": [
    "## 3. Data Overview"
   ]
  },
  {
   "cell_type": "markdown",
   "metadata": {},
   "source": [
    "Firstly, we grab information from wikipedia website. The website is about of list of postal codes of Canada:M, and we scrape the list table, clean and organize and get the information of boroughs and neighborhoods of Toronto; We got according latitude and longitude information of each neighborhood from https://cocl.us/Geospatial_data . The neighborhood location information would be use to get venues information from foursquare website. Then, we kept only sushi information from foursquare and use them to calculate the condition of sushi restaurant in Toronto and make the final business recommendation and decision.\n",
    "\n"
   ]
  },
  {
   "cell_type": "markdown",
   "metadata": {},
   "source": [
    "1. Toronto Neighborhoods Information Source  https://en.wikipedia.org/wiki/List_of_postal_codes_of_Canada:_M"
   ]
  },
  {
   "cell_type": "markdown",
   "metadata": {},
   "source": [
    "From wikipedia website, the postal code, borough and name of neighborhood information of Toronto would be grabed. And the data would be clean and stored in dataframe as follow:"
   ]
  },
  {
   "cell_type": "markdown",
   "metadata": {},
   "source": [
    " .|PostalCode|Borough|Neighborhood\n",
    "---|---|---|---\n",
    "0|M3A|North York|Parkwoods\n",
    "1|M4A|North York|Victoria Village\n",
    "2|M5A|Downtown Toronto|Regent Park, Harbourfront"
   ]
  },
  {
   "cell_type": "markdown",
   "metadata": {},
   "source": [
    "2. Geographical Location Information Source https://cocl.us/Geospatial_data"
   ]
  },
  {
   "cell_type": "markdown",
   "metadata": {},
   "source": [
    "We got the location information of each neighborhood from geospatial data provided by IBM coginitive class. The data was stored in csv file and we use pandas library to read it and stored in dataframe. The data in the file includes:postal code, latitude and longitude, and we merged the dataframe with borough and neighborhood dataframe based on postal code. The results was as follows:"
   ]
  },
  {
   "cell_type": "markdown",
   "metadata": {},
   "source": [
    ".|PostalCode|Borough|Neighborhood|Latitude|Longitude\n",
    "---|---|---|---|---|---\n",
    "0|M3A|North York|Parkwoods|43.753259|-79.329656\n",
    "1|M4A|North York|Victoria Village|43.725882|-79.315572\n",
    "2|M5A|Downtown Toronto|Regent Park, Harbourfront|43.654260|-79.360636"
   ]
  },
  {
   "cell_type": "markdown",
   "metadata": {},
   "source": [
    "3. Venue Data Information source --Foursquare"
   ]
  },
  {
   "cell_type": "markdown",
   "metadata": {},
   "source": [
    "We queried venues information from foursquare based on geographical locaiton of each neighborhood in Toronto. And we stored the data in dataframe as follow:"
   ]
  },
  {
   "cell_type": "markdown",
   "metadata": {},
   "source": [
    ".|Neighborhood|Neighborhoods Latitude|Neighborhood Longitude|Venue|Venue Latitude|Venue Longitude|Venue Category\n",
    "---|---|---|---|---|---|---|---\n",
    "0|Regent Park, Harbourfront|43.65426|-79.360636|Roselle Desserts|43.653447|-79.362017|Bakery\n",
    "1|Regent Park, Harbourfront|43.65426|-79.360636|Tandem Coffee|43.653559|-79.361809|Coffee Shop\n",
    "2|Regent Park, Harbourfront|43.65426|-79.360636|Cooper Koo Family YMCA|43.653249|-79.358008|Distribution Center"
   ]
  },
  {
   "cell_type": "markdown",
   "metadata": {},
   "source": [
    "Then, we prepared data by using one hot coding to analyze venue categories, grouping rows by neighborhood and taking the mean of the frequency of occurrence of each category. And we keep venue category 'sushi restaurant'information as our target analyzing object for later data clustering work."
   ]
  },
  {
   "cell_type": "code",
   "execution_count": null,
   "metadata": {},
   "outputs": [],
   "source": []
  }
 ],
 "metadata": {
  "kernelspec": {
   "display_name": "Python 3",
   "language": "python",
   "name": "python3"
  },
  "language_info": {
   "codemirror_mode": {
    "name": "ipython",
    "version": 3
   },
   "file_extension": ".py",
   "mimetype": "text/x-python",
   "name": "python",
   "nbconvert_exporter": "python",
   "pygments_lexer": "ipython3",
   "version": "3.7.4"
  }
 },
 "nbformat": 4,
 "nbformat_minor": 2
}
